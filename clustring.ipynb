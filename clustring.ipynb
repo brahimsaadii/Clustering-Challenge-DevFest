{
 "cells": [
  {
   "cell_type": "markdown",
   "id": "1a576aa9",
   "metadata": {},
   "source": [
    "# clustring challenge"
   ]
  },
  {
   "cell_type": "markdown",
   "id": "e7b540d8",
   "metadata": {},
   "source": [
    "<h1>data preprocessing<br>\n",
    "cluster number<br>\n",
    "build the model</h1>"
   ]
  },
  {
   "cell_type": "markdown",
   "id": "5beaadce",
   "metadata": {},
   "source": [
    "### Dependancies "
   ]
  },
  {
   "cell_type": "code",
   "execution_count": 1,
   "id": "41d5c8cc",
   "metadata": {},
   "outputs": [],
   "source": [
    "import warnings\n",
    "warnings.simplefilter(\"ignore\", UserWarning)"
   ]
  },
  {
   "cell_type": "code",
   "execution_count": 2,
   "id": "12653cb0",
   "metadata": {},
   "outputs": [],
   "source": [
    "import pandas as pd\n",
    "from matplotlib import pyplot as plt\n",
    "\n",
    "from sklearn.preprocessing import LabelEncoder\n",
    "\n",
    "import numpy as np \n",
    "from sklearn.mixture import GaussianMixture"
   ]
  },
  {
   "cell_type": "markdown",
   "id": "68754517",
   "metadata": {},
   "source": [
    "### import data"
   ]
  },
  {
   "cell_type": "code",
   "execution_count": 3,
   "id": "12b7e557",
   "metadata": {},
   "outputs": [],
   "source": [
    "df = pd.read_csv(\"assets/shop_Customers.csv\")"
   ]
  },
  {
   "cell_type": "code",
   "execution_count": 4,
   "id": "de7af42d",
   "metadata": {},
   "outputs": [
    {
     "data": {
      "text/html": [
       "<div>\n",
       "<style scoped>\n",
       "    .dataframe tbody tr th:only-of-type {\n",
       "        vertical-align: middle;\n",
       "    }\n",
       "\n",
       "    .dataframe tbody tr th {\n",
       "        vertical-align: top;\n",
       "    }\n",
       "\n",
       "    .dataframe thead th {\n",
       "        text-align: right;\n",
       "    }\n",
       "</style>\n",
       "<table border=\"1\" class=\"dataframe\">\n",
       "  <thead>\n",
       "    <tr style=\"text-align: right;\">\n",
       "      <th></th>\n",
       "      <th>ID</th>\n",
       "      <th>SEX</th>\n",
       "      <th>AGE</th>\n",
       "      <th>Salary (k$)</th>\n",
       "      <th>SC (%)</th>\n",
       "    </tr>\n",
       "  </thead>\n",
       "  <tbody>\n",
       "    <tr>\n",
       "      <th>0</th>\n",
       "      <td>1</td>\n",
       "      <td>Male</td>\n",
       "      <td>19</td>\n",
       "      <td>15</td>\n",
       "      <td>39</td>\n",
       "    </tr>\n",
       "    <tr>\n",
       "      <th>1</th>\n",
       "      <td>2</td>\n",
       "      <td>Male</td>\n",
       "      <td>21</td>\n",
       "      <td>15</td>\n",
       "      <td>81</td>\n",
       "    </tr>\n",
       "    <tr>\n",
       "      <th>2</th>\n",
       "      <td>3</td>\n",
       "      <td>Female</td>\n",
       "      <td>20</td>\n",
       "      <td>16</td>\n",
       "      <td>6</td>\n",
       "    </tr>\n",
       "    <tr>\n",
       "      <th>3</th>\n",
       "      <td>4</td>\n",
       "      <td>Female</td>\n",
       "      <td>23</td>\n",
       "      <td>16</td>\n",
       "      <td>77</td>\n",
       "    </tr>\n",
       "    <tr>\n",
       "      <th>4</th>\n",
       "      <td>5</td>\n",
       "      <td>Female</td>\n",
       "      <td>31</td>\n",
       "      <td>17</td>\n",
       "      <td>40</td>\n",
       "    </tr>\n",
       "  </tbody>\n",
       "</table>\n",
       "</div>"
      ],
      "text/plain": [
       "   ID     SEX  AGE  Salary (k$)  SC (%)\n",
       "0   1    Male   19           15      39\n",
       "1   2    Male   21           15      81\n",
       "2   3  Female   20           16       6\n",
       "3   4  Female   23           16      77\n",
       "4   5  Female   31           17      40"
      ]
     },
     "execution_count": 4,
     "metadata": {},
     "output_type": "execute_result"
    }
   ],
   "source": [
    "df.head(5)"
   ]
  },
  {
   "cell_type": "code",
   "execution_count": 5,
   "id": "807545a5",
   "metadata": {},
   "outputs": [
    {
     "name": "stdout",
     "output_type": "stream",
     "text": [
      "<class 'pandas.core.frame.DataFrame'>\n",
      "RangeIndex: 200 entries, 0 to 199\n",
      "Data columns (total 5 columns):\n",
      " #   Column       Non-Null Count  Dtype \n",
      "---  ------       --------------  ----- \n",
      " 0   ID           200 non-null    int64 \n",
      " 1   SEX          200 non-null    object\n",
      " 2   AGE          200 non-null    int64 \n",
      " 3   Salary (k$)  200 non-null    int64 \n",
      " 4   SC (%)       200 non-null    int64 \n",
      "dtypes: int64(4), object(1)\n",
      "memory usage: 7.9+ KB\n"
     ]
    }
   ],
   "source": [
    "df.info()"
   ]
  },
  {
   "cell_type": "markdown",
   "id": "e9b4ab21",
   "metadata": {},
   "source": [
    "### preprocessing"
   ]
  },
  {
   "cell_type": "code",
   "execution_count": 6,
   "id": "7e793c11",
   "metadata": {},
   "outputs": [],
   "source": [
    "label = LabelEncoder()\n",
    "df[\"SEX\"] = label.fit_transform(df[\"SEX\"])"
   ]
  },
  {
   "cell_type": "code",
   "execution_count": 7,
   "id": "d7e12c9a",
   "metadata": {},
   "outputs": [],
   "source": [
    "id_df = df[\"ID\"]\n",
    "df = df.drop(\"ID\", axis = 1)"
   ]
  },
  {
   "cell_type": "markdown",
   "id": "794d2c80",
   "metadata": {},
   "source": [
    "### number of cluster "
   ]
  },
  {
   "cell_type": "code",
   "execution_count": 8,
   "id": "c3c8cccf",
   "metadata": {},
   "outputs": [],
   "source": [
    "def SelBest(arr:list, X:int)->list:\n",
    "    '''\n",
    "    returns the set of X configurations with shorter distance\n",
    "    '''\n",
    "    dx=np.argsort(arr)[:X]\n",
    "    return arr[dx]"
   ]
  },
  {
   "cell_type": "code",
   "execution_count": null,
   "id": "08ac9f6f",
   "metadata": {},
   "outputs": [],
   "source": [
    "n_clusters=np.arange(2, 10)\n",
    "bics=[]\n",
    "bics_err=[]\n",
    "iterations=20\n",
    "for n in n_clusters:\n",
    "    tmp_bic=[]\n",
    "    for _ in range(iterations):\n",
    "        gmm=GaussianMixture(n, n_init=2).fit(df) \n",
    "        \n",
    "        tmp_bic.append(gmm.bic(df))\n",
    "    val=np.mean(SelBest(np.array(tmp_bic), int(iterations/5)))\n",
    "    err=np.std(tmp_bic)\n",
    "    bics.append(val)\n",
    "    bics_err.append(err)"
   ]
  },
  {
   "cell_type": "code",
   "execution_count": null,
   "id": "008ec735",
   "metadata": {},
   "outputs": [],
   "source": [
    "plt.errorbar(n_clusters,bics, yerr=bics_err, label='BIC')\n",
    "plt.title(\"BIC Scores\", fontsize=20)\n",
    "plt.xticks(n_clusters)\n",
    "plt.xlabel(\"N. of clusters\")\n",
    "plt.ylabel(\"Score\")\n",
    "plt.legend()"
   ]
  },
  {
   "cell_type": "markdown",
   "id": "4008c53c",
   "metadata": {},
   "source": [
    "#### number of cluster is 6"
   ]
  },
  {
   "cell_type": "markdown",
   "id": "faa69fe8",
   "metadata": {},
   "source": [
    "## machine learning model "
   ]
  },
  {
   "cell_type": "code",
   "execution_count": null,
   "id": "7d25ae13",
   "metadata": {},
   "outputs": [],
   "source": [
    "gmm = GaussianMixture(n_components = 6) \n",
    "gmm.fit(df)"
   ]
  },
  {
   "cell_type": "code",
   "execution_count": null,
   "id": "70f74165",
   "metadata": {},
   "outputs": [],
   "source": [
    "df['cluster'] = gmm.fit_predict(df)"
   ]
  },
  {
   "cell_type": "code",
   "execution_count": null,
   "id": "5c3e6676",
   "metadata": {},
   "outputs": [],
   "source": [
    "df.insert(0, 'ID', id_df)"
   ]
  },
  {
   "cell_type": "code",
   "execution_count": null,
   "id": "81c6bbee",
   "metadata": {},
   "outputs": [],
   "source": [
    "df"
   ]
  },
  {
   "cell_type": "code",
   "execution_count": null,
   "id": "12ec976f",
   "metadata": {},
   "outputs": [],
   "source": [
    "df.cluster.value_counts()"
   ]
  }
 ],
 "metadata": {
  "kernelspec": {
   "display_name": "Python 3 (ipykernel)",
   "language": "python",
   "name": "python3"
  },
  "language_info": {
   "codemirror_mode": {
    "name": "ipython",
    "version": 3
   },
   "file_extension": ".py",
   "mimetype": "text/x-python",
   "name": "python",
   "nbconvert_exporter": "python",
   "pygments_lexer": "ipython3",
   "version": "3.9.7"
  }
 },
 "nbformat": 4,
 "nbformat_minor": 5
}
